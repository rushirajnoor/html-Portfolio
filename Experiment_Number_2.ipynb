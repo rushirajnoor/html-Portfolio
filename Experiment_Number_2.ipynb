{
  "nbformat": 4,
  "nbformat_minor": 0,
  "metadata": {
    "colab": {
      "provenance": [],
      "authorship_tag": "ABX9TyMkO9Tswgw+JcXMLMB6ouPQ",
      "include_colab_link": true
    },
    "kernelspec": {
      "name": "python3",
      "display_name": "Python 3"
    },
    "language_info": {
      "name": "python"
    }
  },
  "cells": [
    {
      "cell_type": "markdown",
      "metadata": {
        "id": "view-in-github",
        "colab_type": "text"
      },
      "source": [
        "<a href=\"https://colab.research.google.com/github/rushirajnoor/html-Portfolio/blob/main/Experiment_Number_2.ipynb\" target=\"_parent\"><img src=\"https://colab.research.google.com/assets/colab-badge.svg\" alt=\"Open In Colab\"/></a>"
      ]
    },
    {
      "cell_type": "code",
      "execution_count": null,
      "metadata": {
        "colab": {
          "base_uri": "https://localhost:8080/"
        },
        "id": "oM1JZLBqhIoC",
        "outputId": "195df06b-df0b-464c-cfb9-40cbf6cafdda"
      },
      "outputs": [
        {
          "output_type": "stream",
          "name": "stdout",
          "text": [
            "Enter a number: 0\n",
            "Zero\n"
          ]
        }
      ],
      "source": [
        "#Program to check whether the given number is positive or negative.\n",
        "\n",
        "num = float(input(\"Enter a number: \"))\n",
        "if num > 0:\n",
        "   print(\"Positive number\")\n",
        "elif num == 0:\n",
        "   print(\"Zero\")\n",
        "else:\n",
        "   print(\"Negative number\")"
      ]
    },
    {
      "cell_type": "markdown",
      "source": [],
      "metadata": {
        "id": "hog4Jl6z24WX"
      }
    },
    {
      "cell_type": "markdown",
      "source": [],
      "metadata": {
        "id": "Qe6wiiJG265h"
      }
    },
    {
      "cell_type": "markdown",
      "source": [
        "experiment 1"
      ],
      "metadata": {
        "id": "TzUi0XCR2w5H"
      }
    },
    {
      "cell_type": "markdown",
      "source": [
        "# New Section"
      ],
      "metadata": {
        "id": "sOa0rhamySD7"
      }
    },
    {
      "cell_type": "code",
      "source": [
        "#Program to find largest number from two numbers.\n",
        "\n",
        "num1 = int(input(\"Enter the first number\"))\n",
        "num2 = int(input(\"Enter the second number\"))\n",
        "\n",
        "if num1>num2:\n",
        "    print(\"The largest number is\",num1)\n",
        "else:\n",
        "    print(\"The largest number is\",num2)"
      ],
      "metadata": {
        "id": "BXuAVyqeisL0"
      },
      "execution_count": null,
      "outputs": []
    },
    {
      "cell_type": "code",
      "source": [
        "#Program to find largest number among three.\n",
        "num1 = int(input(\"Enter the first number\"))\n",
        "num2 = int(input(\"Enter the second number\"))\n",
        "num3 = int(input(\"Enter the third number\"))\n",
        "if num1>num2 and num1>num3:\n",
        "    print(\"The largest number is\",num1)\n",
        "elif num2>num1 and num2>num3:\n",
        "    print(\"The largest number is\",num2)\n",
        "else:\n",
        "    print(\"The largest number is\",num3)"
      ],
      "metadata": {
        "id": "V5eyFe8clHJY"
      },
      "execution_count": null,
      "outputs": []
    },
    {
      "cell_type": "code",
      "source": [
        "#Program to check whether given number is even or add.\n",
        "num = int(input(\"Enter a number \"))\n",
        "if num % 2 == 0:\n",
        "  print(\"The number is even\")\n",
        "else:\n",
        "  print(\"The number is odd\")"
      ],
      "metadata": {
        "colab": {
          "base_uri": "https://localhost:8080/"
        },
        "id": "jvjWs8ymlqY3",
        "outputId": "0f47815d-a938-44b9-8032-451733464ad1"
      },
      "execution_count": null,
      "outputs": [
        {
          "output_type": "stream",
          "name": "stdout",
          "text": [
            "Enter a number -2\n",
            "The number is even\n"
          ]
        }
      ]
    },
    {
      "cell_type": "code",
      "source": [
        "#Program to calculate the sum of squares of the first n natural numbers.\n",
        "a = 0\n",
        "n = int(input(\"Enter a number\"))\n",
        "for i in range(1,n+1):\n",
        "  a = a + (i*i)\n",
        "print(a)"
      ],
      "metadata": {
        "colab": {
          "base_uri": "https://localhost:8080/"
        },
        "id": "X3Yvjgv7mfG9",
        "outputId": "2d1625eb-9f9e-4203-997a-f906921a7053"
      },
      "execution_count": null,
      "outputs": [
        {
          "output_type": "stream",
          "name": "stdout",
          "text": [
            "Enter a number3\n",
            "14\n"
          ]
        }
      ]
    },
    {
      "cell_type": "code",
      "source": [
        "#to print multiplication table for the given number.\n",
        "n = int(input(\"Enter a number\"))\n",
        "\n",
        "for i in range(1,11):\n",
        "  print(i*n)"
      ],
      "metadata": {
        "colab": {
          "base_uri": "https://localhost:8080/"
        },
        "id": "7mC0OjlmtCqG",
        "outputId": "1cff839f-7b48-466a-c0b2-8a81ff09b057"
      },
      "execution_count": null,
      "outputs": [
        {
          "output_type": "stream",
          "name": "stdout",
          "text": [
            "Enter a number10\n",
            "10\n",
            "20\n",
            "30\n",
            "40\n",
            "50\n",
            "60\n",
            "70\n",
            "80\n",
            "90\n",
            "100\n"
          ]
        }
      ]
    },
    {
      "cell_type": "markdown",
      "source": [],
      "metadata": {
        "id": "Vz5cu9vmlpmY"
      }
    },
    {
      "cell_type": "code",
      "source": [
        "#Program to print the square of all numbers from 1-100.\n",
        "\n",
        "for i in range(0,101):\n",
        "  print(i*i, end=\" \")\n"
      ],
      "metadata": {
        "colab": {
          "base_uri": "https://localhost:8080/"
        },
        "id": "Uxr4mqQFsEUl",
        "outputId": "961839a8-fe99-4b61-9ce3-2374cab05e54"
      },
      "execution_count": null,
      "outputs": [
        {
          "output_type": "stream",
          "name": "stdout",
          "text": [
            "0 1 4 9 16 25 36 49 64 81 100 121 144 169 196 225 256 289 324 361 400 441 484 529 576 625 676 729 784 841 900 961 1024 1089 1156 1225 1296 1369 1444 1521 1600 1681 1764 1849 1936 2025 2116 2209 2304 2401 2500 2601 2704 2809 2916 3025 3136 3249 3364 3481 3600 3721 3844 3969 4096 4225 4356 4489 4624 4761 4900 5041 5184 5329 5476 5625 5776 5929 6084 6241 6400 6561 6724 6889 7056 7225 7396 7569 7744 7921 8100 8281 8464 8649 8836 9025 9216 9409 9604 9801 10000 "
          ]
        }
      ]
    },
    {
      "cell_type": "code",
      "source": [
        "#Program to print all even and odd numbers from 1-100.\n",
        "for i in range(1, 101):\n",
        "  if i % 2 == 0:\n",
        "    print(\"even no.\",i)\n",
        "for i in range(1, 101):\n",
        "  if i % 2 != 0:\n",
        "    print(\"odd no.\",i,end=)"
      ],
      "metadata": {
        "colab": {
          "base_uri": "https://localhost:8080/"
        },
        "id": "_k--yktQ1zlL",
        "outputId": "eb1ed084-7994-402b-f5b1-2ef1e2ce6f1a"
      },
      "execution_count": null,
      "outputs": [
        {
          "output_type": "stream",
          "name": "stdout",
          "text": [
            "even no. 2\n",
            "even no. 4\n",
            "even no. 6\n",
            "even no. 8\n",
            "even no. 10\n",
            "even no. 12\n",
            "even no. 14\n",
            "even no. 16\n",
            "even no. 18\n",
            "even no. 20\n",
            "even no. 22\n",
            "even no. 24\n",
            "even no. 26\n",
            "even no. 28\n",
            "even no. 30\n",
            "even no. 32\n",
            "even no. 34\n",
            "even no. 36\n",
            "even no. 38\n",
            "even no. 40\n",
            "even no. 42\n",
            "even no. 44\n",
            "even no. 46\n",
            "even no. 48\n",
            "even no. 50\n",
            "even no. 52\n",
            "even no. 54\n",
            "even no. 56\n",
            "even no. 58\n",
            "even no. 60\n",
            "even no. 62\n",
            "even no. 64\n",
            "even no. 66\n",
            "even no. 68\n",
            "even no. 70\n",
            "even no. 72\n",
            "even no. 74\n",
            "even no. 76\n",
            "even no. 78\n",
            "even no. 80\n",
            "even no. 82\n",
            "even no. 84\n",
            "even no. 86\n",
            "even no. 88\n",
            "even no. 90\n",
            "even no. 92\n",
            "even no. 94\n",
            "even no. 96\n",
            "even no. 98\n",
            "even no. 100\n",
            "odd no. 1\n",
            "odd no. 3\n",
            "odd no. 5\n",
            "odd no. 7\n",
            "odd no. 9\n",
            "odd no. 11\n",
            "odd no. 13\n",
            "odd no. 15\n",
            "odd no. 17\n",
            "odd no. 19\n",
            "odd no. 21\n",
            "odd no. 23\n",
            "odd no. 25\n",
            "odd no. 27\n",
            "odd no. 29\n",
            "odd no. 31\n",
            "odd no. 33\n",
            "odd no. 35\n",
            "odd no. 37\n",
            "odd no. 39\n",
            "odd no. 41\n",
            "odd no. 43\n",
            "odd no. 45\n",
            "odd no. 47\n",
            "odd no. 49\n",
            "odd no. 51\n",
            "odd no. 53\n",
            "odd no. 55\n",
            "odd no. 57\n",
            "odd no. 59\n",
            "odd no. 61\n",
            "odd no. 63\n",
            "odd no. 65\n",
            "odd no. 67\n",
            "odd no. 69\n",
            "odd no. 71\n",
            "odd no. 73\n",
            "odd no. 75\n",
            "odd no. 77\n",
            "odd no. 79\n",
            "odd no. 81\n",
            "odd no. 83\n",
            "odd no. 85\n",
            "odd no. 87\n",
            "odd no. 89\n",
            "odd no. 91\n",
            "odd no. 93\n",
            "odd no. 95\n",
            "odd no. 97\n",
            "odd no. 99\n"
          ]
        }
      ]
    }
  ]
}