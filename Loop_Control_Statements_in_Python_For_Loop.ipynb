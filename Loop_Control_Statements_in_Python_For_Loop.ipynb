{
  "nbformat": 4,
  "nbformat_minor": 0,
  "metadata": {
    "colab": {
      "provenance": [],
      "authorship_tag": "ABX9TyP0AknBeDqvj8kcZ5YM+ZT8",
      "include_colab_link": true
    },
    "kernelspec": {
      "name": "python3",
      "display_name": "Python 3"
    },
    "language_info": {
      "name": "python"
    }
  },
  "cells": [
    {
      "cell_type": "markdown",
      "metadata": {
        "id": "view-in-github",
        "colab_type": "text"
      },
      "source": [
        "<a href=\"https://colab.research.google.com/github/rushirajnoor/html-Portfolio/blob/main/Loop_Control_Statements_in_Python_For_Loop.ipynb\" target=\"_parent\"><img src=\"https://colab.research.google.com/assets/colab-badge.svg\" alt=\"Open In Colab\"/></a>"
      ]
    },
    {
      "cell_type": "code",
      "execution_count": null,
      "metadata": {
        "id": "h9DMIwDWVPUk",
        "colab": {
          "base_uri": "https://localhost:8080/"
        },
        "outputId": "73f55c2a-0a39-4fd6-a22a-e4cc944ac041"
      },
      "outputs": [
        {
          "output_type": "stream",
          "name": "stdout",
          "text": [
            "Enter the starting number of the range: 5\n",
            "Enter the ending number of the range: 10\n",
            "5 6 7 8 9 10 "
          ]
        }
      ],
      "source": [
        "#Program to print all numbers in the specified range.\n",
        "\n",
        "start = int(input(\"Enter the starting number of the range: \"))\n",
        "end = int(input(\"Enter the ending number of the range: \"))\n",
        "\n",
        "for i in range(start,end + 1):\n",
        "    print(i, end = \" \")"
      ]
    },
    {
      "cell_type": "code",
      "source": [
        "#Program to calculate the sum of squares of the first n natural numbers.\n",
        "\n",
        "n = int(input(\"Enter a number: \"))\n",
        "sum = 0\n",
        "for i in range(1,n + 1):\n",
        "    sum = sum + (i * i)\n",
        "\n",
        "print(f\"the sum of squares of the first {n} natural numbers is \",sum)\n"
      ],
      "metadata": {
        "colab": {
          "base_uri": "https://localhost:8080/"
        },
        "id": "AL6GsZ0-5bGP",
        "outputId": "88871c0c-176f-400d-db81-bde56f8d7931"
      },
      "execution_count": null,
      "outputs": [
        {
          "output_type": "stream",
          "name": "stdout",
          "text": [
            "Enter a number: 4\n",
            "the sum of squares of the first 4 natural numbers is  30\n"
          ]
        }
      ]
    },
    {
      "cell_type": "code",
      "source": [
        "#Program to print the square of all numbers from 1-100.\n",
        "\n",
        "for i in range(1,101):\n",
        "    print(i * i, end = \" \")\n"
      ],
      "metadata": {
        "colab": {
          "base_uri": "https://localhost:8080/"
        },
        "id": "_HfhVfLa6cna",
        "outputId": "b2289cd8-9134-4541-a920-1aa2ffd6f7dc"
      },
      "execution_count": null,
      "outputs": [
        {
          "output_type": "stream",
          "name": "stdout",
          "text": [
            "1 4 9 16 25 36 49 64 81 100 121 144 169 196 225 256 289 324 361 400 441 484 529 576 625 676 729 784 841 900 961 1024 1089 1156 1225 1296 1369 1444 1521 1600 1681 1764 1849 1936 2025 2116 2209 2304 2401 2500 2601 2704 2809 2916 3025 3136 3249 3364 3481 3600 3721 3844 3969 4096 4225 4356 4489 4624 4761 4900 5041 5184 5329 5476 5625 5776 5929 6084 6241 6400 6561 6724 6889 7056 7225 7396 7569 7744 7921 8100 8281 8464 8649 8836 9025 9216 9409 9604 9801 10000 "
          ]
        }
      ]
    },
    {
      "cell_type": "code",
      "source": [
        "#Program to print multiplication table for the given number.\n",
        "\n",
        "n = int(input(\"Enter a number: \"))\n",
        "for i in range(1,11):\n",
        "    print(f\"{n} x {i} = {i * n}\")"
      ],
      "metadata": {
        "colab": {
          "base_uri": "https://localhost:8080/"
        },
        "id": "mo8H60WT7Ang",
        "outputId": "9b1a99d5-09ca-4a02-95ac-f66565d34313"
      },
      "execution_count": null,
      "outputs": [
        {
          "output_type": "stream",
          "name": "stdout",
          "text": [
            "Enter a number: 11\n",
            "11 x 1 = 11\n",
            "11 x 2 = 22\n",
            "11 x 3 = 33\n",
            "11 x 4 = 44\n",
            "11 x 5 = 55\n",
            "11 x 6 = 66\n",
            "11 x 7 = 77\n",
            "11 x 8 = 88\n",
            "11 x 9 = 99\n",
            "11 x 10 = 110\n"
          ]
        }
      ]
    },
    {
      "cell_type": "code",
      "source": [
        "#Program to print all even and odd numbers from 1-100.\n",
        "print(\"Even numbers: \")\n",
        "for i in range(1,101):\n",
        "    if i % 2 == 0:\n",
        "        print(i, end = \" \")\n",
        "\n",
        "print(\"\\nOdd numbers: \")\n",
        "for i in range(1,101):\n",
        "    if i % 2 != 0:\n",
        "        print(i, end = \" \")"
      ],
      "metadata": {
        "id": "78yPjrBR-E5z",
        "colab": {
          "base_uri": "https://localhost:8080/"
        },
        "outputId": "2170d2d1-3f6a-4811-f565-791e312afee6"
      },
      "execution_count": null,
      "outputs": [
        {
          "output_type": "stream",
          "name": "stdout",
          "text": [
            "Even numbers: \n",
            "2 4 6 8 10 12 14 16 18 20 22 24 26 28 30 32 34 36 38 40 42 44 46 48 50 52 54 56 58 60 62 64 66 68 70 72 74 76 78 80 82 84 86 88 90 92 94 96 98 100 \n",
            "Odd numbers: \n",
            "1 3 5 7 9 11 13 15 17 19 21 23 25 27 29 31 33 35 37 39 41 43 45 47 49 51 53 55 57 59 61 63 65 67 69 71 73 75 77 79 81 83 85 87 89 91 93 95 97 99 "
          ]
        }
      ]
    },
    {
      "cell_type": "code",
      "source": [
        "#Program to print sum of the first n numbers.\n",
        "\n",
        "n = int(input(\"Enter a number: \"))\n",
        "sum = 0\n",
        "for i in range(0,n+1):\n",
        "    sum = sum + i\n",
        "\n",
        "print(sum)\n",
        "\n"
      ],
      "metadata": {
        "colab": {
          "base_uri": "https://localhost:8080/"
        },
        "id": "bJ6l7nvqB0yP",
        "outputId": "f21adfc2-d3bf-44c0-f58c-2f1950d6ec4d"
      },
      "execution_count": null,
      "outputs": [
        {
          "output_type": "stream",
          "name": "stdout",
          "text": [
            "Enter a number: 4\n",
            "10\n"
          ]
        }
      ]
    },
    {
      "cell_type": "code",
      "source": [
        "#Write a program to print sum of even numbers between 1-100.\n",
        "\n",
        "sum = 0\n",
        "for i in range(0,101):\n",
        "    if i % 2 == 0:\n",
        "        sum = sum + i\n",
        "\n",
        "print(sum)"
      ],
      "metadata": {
        "colab": {
          "base_uri": "https://localhost:8080/"
        },
        "id": "rQPqTm4OCkZr",
        "outputId": "5302a4aa-8718-4781-a64c-dac7636ad75f"
      },
      "execution_count": null,
      "outputs": [
        {
          "output_type": "stream",
          "name": "stdout",
          "text": [
            "2550\n"
          ]
        }
      ]
    },
    {
      "cell_type": "code",
      "source": [
        "#Program to calculate the factorial of given number.\n",
        "\n",
        "n = int(input(\"Enter a number: \"))\n",
        "fact = 1\n",
        "for i in range(1,n+1):\n",
        "    fact = fact * i\n",
        "print(fact)"
      ],
      "metadata": {
        "colab": {
          "base_uri": "https://localhost:8080/"
        },
        "id": "MHICaLujDBiL",
        "outputId": "8579b18b-cf19-4b5e-a973-803c15467914"
      },
      "execution_count": null,
      "outputs": [
        {
          "output_type": "stream",
          "name": "stdout",
          "text": [
            "Enter a number: 4\n",
            "24\n"
          ]
        }
      ]
    },
    {
      "cell_type": "code",
      "source": [
        "'''\n",
        "Write a program that takes two inputs from the user: the base and the exponent (power).\n",
        "The program should then calculate and print the result of raising the base to the given\n",
        "power.\n",
        "'''\n",
        "base = int(input(\"Enter the number for the base value: \"))\n",
        "exponent = int(input(\"Enter the number for the exponent value: \"))\n",
        "\n",
        "num = base ** exponent\n",
        "print(f\"{base} to the power {exponent} is {num}\")\n",
        "\n",
        "\n"
      ],
      "metadata": {
        "colab": {
          "base_uri": "https://localhost:8080/"
        },
        "id": "KpFA2wikGmNe",
        "outputId": "a0ff2e2b-c5e1-4cef-a39c-c0151c2960a0"
      },
      "execution_count": null,
      "outputs": [
        {
          "output_type": "stream",
          "name": "stdout",
          "text": [
            "Enter the number for the base value: 2\n",
            "Enter the number for the exponent value: 3\n",
            "2 to the power 3 is 8\n"
          ]
        }
      ]
    },
    {
      "cell_type": "code",
      "source": [
        "#Program to count total number divisible by 7 from 1-100 series.\n",
        "\n",
        "count = 0\n",
        "for i in range(1,101):\n",
        "    if i % 7 == 0:\n",
        "        count = count + 1\n",
        "\n",
        "print(count)"
      ],
      "metadata": {
        "colab": {
          "base_uri": "https://localhost:8080/"
        },
        "id": "DIP6m0_2K3ka",
        "outputId": "567b716a-381b-4be1-c48d-3cd91403b8b3"
      },
      "execution_count": null,
      "outputs": [
        {
          "output_type": "stream",
          "name": "stdout",
          "text": [
            "14\n"
          ]
        }
      ]
    },
    {
      "cell_type": "code",
      "source": [
        "#Program to print Fibonacci series up to first n number.\n",
        "\n",
        "num = int(input(\"Enter the Fibonacci numbers to print: \"))\n",
        "\n",
        "count = 0\n",
        "first_num = 0\n",
        "last_num = 1\n",
        "\n",
        "\n",
        "while count < num:\n",
        "\n",
        "    sum = first_num + last_num\n",
        "    first_num = last_num\n",
        "    last_num = sum\n",
        "\n",
        "    print(sum, end = \" \")\n",
        "    count = count + 1"
      ],
      "metadata": {
        "colab": {
          "base_uri": "https://localhost:8080/"
        },
        "id": "huA21CshLp2H",
        "outputId": "e235b78c-be1f-4e5e-a20f-d708fb60bebb"
      },
      "execution_count": null,
      "outputs": [
        {
          "output_type": "stream",
          "name": "stdout",
          "text": [
            "Enter the Fibonacci numbers to print: 8\n",
            "1 2 3 5 8 13 21 34 "
          ]
        }
      ]
    },
    {
      "cell_type": "code",
      "source": [
        "#Program to print all factors of given number.\n",
        "\n",
        "num = int(input(\"Enter a number: \"))\n",
        "for i in range(2,num//2 + 1):\n",
        "    if num % i  == 0:\n",
        "        print(i)\n",
        "\n",
        "\n"
      ],
      "metadata": {
        "colab": {
          "base_uri": "https://localhost:8080/"
        },
        "id": "sdzkxazOWq7C",
        "outputId": "5c874ece-52c0-46d6-8b86-ef7477794782"
      },
      "execution_count": null,
      "outputs": [
        {
          "output_type": "stream",
          "name": "stdout",
          "text": [
            "Enter a number: 100\n",
            "2\n",
            "4\n",
            "5\n",
            "10\n",
            "20\n",
            "25\n",
            "50\n"
          ]
        }
      ]
    },
    {
      "cell_type": "code",
      "source": [
        "# Program to continuously take number from user and print its square until user enter zero.\n",
        "\n",
        "num = 1\n",
        "\n",
        "while num > 0 :\n",
        "    num = int(input(\"Enter a number \"))\n",
        "    print(num * num)\n",
        "\n",
        "\n"
      ],
      "metadata": {
        "colab": {
          "base_uri": "https://localhost:8080/"
        },
        "id": "2vUY0y5Dc1ki",
        "outputId": "fdff323f-4958-4877-c82b-7150d2c717a3"
      },
      "execution_count": null,
      "outputs": [
        {
          "output_type": "stream",
          "name": "stdout",
          "text": [
            "Enter a a number 3\n",
            "9\n",
            "Enter a a number 2\n",
            "4\n",
            "Enter a a number 4\n",
            "16\n",
            "Enter a a number 1\n",
            "1\n",
            "Enter a a number 0\n",
            "0\n"
          ]
        }
      ]
    },
    {
      "cell_type": "code",
      "source": [
        "#Program to print half of the number continuously until it reaches 1.\n",
        "\n",
        "num = int(input(\"Enter a number \"))\n",
        "a = 1\n",
        "while num >= 1:\n",
        "    print(num)\n",
        "    num = num//2"
      ],
      "metadata": {
        "colab": {
          "base_uri": "https://localhost:8080/"
        },
        "id": "Vq6ElGmQenRy",
        "outputId": "2f2f734e-d2ee-48aa-ecb7-f6987425957c"
      },
      "execution_count": null,
      "outputs": [
        {
          "output_type": "stream",
          "name": "stdout",
          "text": [
            "Enter a a number 11\n",
            "11\n",
            "5\n",
            "2\n",
            "1\n"
          ]
        }
      ]
    },
    {
      "cell_type": "code",
      "source": [
        "#Program to convert a decimal number to binary.\n",
        "\n",
        "n = int(input(\"Enter a number \"))\n",
        "while n >= 1:\n",
        "    print(n % 2, end = \" \" )\n",
        "    n = n //2"
      ],
      "metadata": {
        "colab": {
          "base_uri": "https://localhost:8080/"
        },
        "id": "GEtANoGQhHen",
        "outputId": "c9ff8bcd-d38a-45c4-8fb4-614de0fb4bba"
      },
      "execution_count": null,
      "outputs": [
        {
          "output_type": "stream",
          "name": "stdout",
          "text": [
            "Enter a number 8\n",
            "0 0 0 1 "
          ]
        }
      ]
    },
    {
      "cell_type": "code",
      "source": [
        "#Program to find the logarithm base 2 of a given number."
      ],
      "metadata": {
        "id": "9D1g4RGAj5of"
      },
      "execution_count": null,
      "outputs": []
    },
    {
      "cell_type": "code",
      "source": [
        "b = 11  # Start from the smallest multiple of 11\n",
        "\n",
        "while True:\n",
        "    if (b % 2 == 3 and b % 3 == 3 and b % 4 == 3 and b % 5 == 3):\n",
        "        print(f\"Smallest number of books: {b}\")\n",
        "        break\n",
        "    b += 11  # Increment by 11 (must be divisible by 11)\n",
        "\n",
        "\n",
        "\n",
        "\n"
      ],
      "metadata": {
        "colab": {
          "base_uri": "https://localhost:8080/",
          "height": 210
        },
        "id": "YfqHbjj2lyll",
        "outputId": "ef73e69e-151e-4f89-ccda-aae978e7b577"
      },
      "execution_count": null,
      "outputs": [
        {
          "output_type": "error",
          "ename": "KeyboardInterrupt",
          "evalue": "",
          "traceback": [
            "\u001b[0;31m---------------------------------------------------------------------------\u001b[0m",
            "\u001b[0;31mKeyboardInterrupt\u001b[0m                         Traceback (most recent call last)",
            "\u001b[0;32m<ipython-input-81-1962827df1ae>\u001b[0m in \u001b[0;36m<cell line: 3>\u001b[0;34m()\u001b[0m\n\u001b[1;32m      2\u001b[0m \u001b[0;34m\u001b[0m\u001b[0m\n\u001b[1;32m      3\u001b[0m \u001b[0;32mwhile\u001b[0m \u001b[0;32mTrue\u001b[0m\u001b[0;34m:\u001b[0m\u001b[0;34m\u001b[0m\u001b[0;34m\u001b[0m\u001b[0m\n\u001b[0;32m----> 4\u001b[0;31m     \u001b[0;32mif\u001b[0m \u001b[0;34m(\u001b[0m\u001b[0mb\u001b[0m \u001b[0;34m%\u001b[0m \u001b[0;36m2\u001b[0m \u001b[0;34m==\u001b[0m \u001b[0;36m3\u001b[0m \u001b[0;32mand\u001b[0m \u001b[0mb\u001b[0m \u001b[0;34m%\u001b[0m \u001b[0;36m3\u001b[0m \u001b[0;34m==\u001b[0m \u001b[0;36m3\u001b[0m \u001b[0;32mand\u001b[0m \u001b[0mb\u001b[0m \u001b[0;34m%\u001b[0m \u001b[0;36m4\u001b[0m \u001b[0;34m==\u001b[0m \u001b[0;36m3\u001b[0m \u001b[0;32mand\u001b[0m \u001b[0mb\u001b[0m \u001b[0;34m%\u001b[0m \u001b[0;36m5\u001b[0m \u001b[0;34m==\u001b[0m \u001b[0;36m3\u001b[0m\u001b[0;34m)\u001b[0m\u001b[0;34m:\u001b[0m\u001b[0;34m\u001b[0m\u001b[0;34m\u001b[0m\u001b[0m\n\u001b[0m\u001b[1;32m      5\u001b[0m         \u001b[0mprint\u001b[0m\u001b[0;34m(\u001b[0m\u001b[0;34mf\"Smallest number of books: {b}\"\u001b[0m\u001b[0;34m)\u001b[0m\u001b[0;34m\u001b[0m\u001b[0;34m\u001b[0m\u001b[0m\n\u001b[1;32m      6\u001b[0m         \u001b[0;32mbreak\u001b[0m\u001b[0;34m\u001b[0m\u001b[0;34m\u001b[0m\u001b[0m\n",
            "\u001b[0;31mKeyboardInterrupt\u001b[0m: "
          ]
        }
      ]
    },
    {
      "cell_type": "code",
      "source": [],
      "metadata": {
        "id": "2DYyhVwKa8t_"
      },
      "execution_count": null,
      "outputs": []
    }
  ]
}